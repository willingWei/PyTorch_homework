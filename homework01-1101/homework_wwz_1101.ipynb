{
 "cells": [
  {
   "cell_type": "markdown",
   "metadata": {},
   "source": [
    "# 基于词向量的英汉翻译——“火炬上的深度学习\"下第一次作业\n",
    "\n",
    "在这个作业中，你需要半独立地完成一个英文到中文的单词翻译器\n",
    "\n",
    "本文件是集智AI学园http://campus.swarma.org 出品的“火炬上的深度学习”第VI课的配套源代码"
   ]
  },
  {
   "cell_type": "code",
   "execution_count": 1,
   "metadata": {},
   "outputs": [
    {
     "name": "stderr",
     "output_type": "stream",
     "text": [
      "C:\\Users\\wwz\\Anaconda3\\envs\\deeplearning\\lib\\site-packages\\gensim\\utils.py:860: UserWarning: detected Windows; aliasing chunkize to chunkize_serial\n",
      "  warnings.warn(\"detected Windows; aliasing chunkize to chunkize_serial\")\n"
     ]
    }
   ],
   "source": [
    "# 加载必要的程序包\n",
    "# PyTorch的程序包\n",
    "import torch\n",
    "from torch.autograd import Variable\n",
    "import torch.nn as nn\n",
    "import torch.nn.functional as F\n",
    "import torch.optim as optim\n",
    "\n",
    "# 数值运算和绘图的程序包\n",
    "import numpy as np\n",
    "import matplotlib.pyplot as plt\n",
    "import matplotlib\n",
    "\n",
    "\n",
    "# 加载机器学习的软件包，主要为了词向量的二维可视化\n",
    "from sklearn.decomposition import PCA\n",
    "\n",
    "#加载Word2Vec的软件包\n",
    "import gensim as gensim\n",
    "from gensim.models import Word2Vec\n",
    "from gensim.models.keyedvectors import KeyedVectors\n",
    "from gensim.models.word2vec import LineSentence\n",
    "\n",
    "#加载正则表达式处理的包\n",
    "import re\n",
    "\n",
    "#在Notebook界面能够直接显示图形\n",
    "%matplotlib inline"
   ]
  },
  {
   "cell_type": "markdown",
   "metadata": {},
   "source": [
    "## 第一步：加载词向量\n",
    "\n",
    "首先，让我们加载别人已经在大型语料库上训练好的词向量"
   ]
  },
  {
   "cell_type": "code",
   "execution_count": 2,
   "metadata": {},
   "outputs": [
    {
     "data": {
      "text/plain": [
       "1366130"
      ]
     },
     "execution_count": 2,
     "metadata": {},
     "output_type": "execute_result"
    }
   ],
   "source": [
    "# 加载中文词向量，下载地址为：链接：http://pan.baidu.com/s/1gePQAun 密码：kvtg\n",
    "# 该中文词向量库是由尹相志提供，训练语料来源为：微博、人民日报、上海热线、汽车之家等，包含1366130个词向量\n",
    "word_vectors = KeyedVectors.load_word2vec_format('vectors.bin', binary=True, unicode_errors='ignore')\n",
    "len(word_vectors.vocab)"
   ]
  },
  {
   "cell_type": "code",
   "execution_count": 5,
   "metadata": {},
   "outputs": [
    {
     "name": "stdout",
     "output_type": "stream",
     "text": [
      "400000\n"
     ]
    }
   ],
   "source": [
    "# 加载中文的词向量，下载地址为：http://nlp.stanford.edu/data/glove.6B.zip，解压后将glove.6B.100d.txt文件拷贝到与本notebook\n",
    "# 文件一致的文件夹洗面。\n",
    "f = open('glove.6B.100d.txt', 'r')\n",
    "i = 1\n",
    "\n",
    "# 将英文的词向量都存入如下的字典中\n",
    "word_vectors_en = {}\n",
    "with open('glove.6B.100d.txt', encoding='UTF-8') as f:\n",
    "    for line in f:\n",
    "       numbers = line.split()\n",
    "       word = numbers[0]\n",
    "       vectors = np.array([float(i) for i in numbers[1 : ]])\n",
    "       word_vectors_en[word] = vectors\n",
    "       i += 1\n",
    "print(len(word_vectors_en))"
   ]
  },
  {
   "cell_type": "markdown",
   "metadata": {},
   "source": [
    "## 第二步：可视化同一组意思词在两种不同语言的词向量中的相互位置关系"
   ]
  },
  {
   "cell_type": "code",
   "execution_count": 6,
   "metadata": {
    "collapsed": true
   },
   "outputs": [],
   "source": [
    "# 中文的一二三四五列表\n",
    "cn_list = {'一', '二', '三', '四', '五', '六', '七', '八', '九', '零'}\n",
    "# 阿拉伯数字的12345列表\n",
    "en_list = {'1', '2', '3', '4', '5', '6', '7', '8', '9', '0'}\n",
    "# 英文数字的列表\n",
    "en_list = {'one', 'two', 'three', 'four', 'five', 'six', 'seven', 'eight', 'nine', 'zero'}\n",
    "\n",
    "# 对应词向量都存入到列表中\n",
    "cn_vectors = []  #中文的词向量列表\n",
    "en_vectors = []  #英文的词向量列表\n",
    "for w in cn_list:\n",
    "    cn_vectors.append(word_vectors[w])\n",
    "for w in en_list:\n",
    "    en_vectors.append(word_vectors_en[w])\n",
    "\n",
    "# 将这些词向量统一转化为矩阵\n",
    "cn_vectors = np.array(cn_vectors)\n",
    "en_vectors = np.array(en_vectors)"
   ]
  },
  {
   "cell_type": "code",
   "execution_count": 10,
   "metadata": {},
   "outputs": [
    {
     "data": {
      "image/png": "[encoded data removed]",
      "text/plain": [
       "<matplotlib.figure.Figure at 0x22684ce8a90>"
      ]
     },
     "metadata": {},
     "output_type": "display_data"
    }
   ],
   "source": [
    "# 降维实现可视化\n",
    "X_reduced = PCA(n_components=2).fit_transform(cn_vectors)\n",
    "Y_reduced = PCA(n_components = 2).fit_transform(en_vectors)\n",
    "\n",
    "# 绘制所有单词向量的二维空间投影\n",
    "f, (ax1, ax2) = plt.subplots(1, 2, figsize = (10, 8))\n",
    "ax1.plot(X_reduced[:, 0], X_reduced[:, 1], 'o')\n",
    "ax2.plot(Y_reduced[:, 0], Y_reduced[:, 1], 'o')\n",
    "zhfont1 = matplotlib.font_manager.FontProperties(fname='C:/Windows/Fonts/STFANGSO.TTF', size=16)\n",
    "for i, w in enumerate(cn_list):\n",
    "    ax1.text(X_reduced[i, 0], X_reduced[i, 1], w, fontproperties = zhfont1, alpha = 1)\n",
    "for i, w in enumerate(en_list):\n",
    "    ax2.text(Y_reduced[i, 0], Y_reduced[i, 1], w, alpha = 1)"
   ]
  },
  {
   "cell_type": "markdown",
   "metadata": {},
   "source": [
    "### 结论：可以看出，中文的一、二、等数字彼此之间的关系与英文的数字彼此之间的关系很类似"
   ]
  },
  {
   "cell_type": "markdown",
   "metadata": {},
   "source": [
    "## 第三步：训练一个神经网络，输入一个英文单词的词向量，输出一个中文的词向量，并翻译为中文"
   ]
  },
  {
   "cell_type": "markdown",
   "metadata": {},
   "source": [
    "首先，读入一个已经建立好的词典（dictionary.txt）。本词典是老师调用百度翻译的API，自动将一篇英文小说中的词汇逐个翻译为中文而得来的\n",
    "\n",
    "我们一个个地载入词典，并查找对应的中文词向量，如果找得到，则放入original_words中，做为正式的训练集"
   ]
  },
  {
   "cell_type": "code",
   "execution_count": 12,
   "metadata": {},
   "outputs": [
    {
     "name": "stdout",
     "output_type": "stream",
     "text": [
      "4962\n"
     ]
    }
   ],
   "source": [
    "original_words = []\n",
    "with open('dictionary.txt', 'r', encoding='UTF-8') as f:\n",
    "    dataset = []\n",
    "    for line in f:\n",
    "        itm = line.split('\\t')\n",
    "        eng = itm[0]\n",
    "        chn = itm[1].strip()\n",
    "        if eng in word_vectors_en and chn in word_vectors:\n",
    "            data = word_vectors_en[eng]\n",
    "            target = word_vectors[chn]\n",
    "            # 将中英文词对做成数据集\n",
    "            dataset.append([data, target])\n",
    "            original_words.append([eng, chn])\n",
    "print(len(dataset)) # 共有4962个单词做为总的数据集合"
   ]
  },
  {
   "cell_type": "code",
   "execution_count": 13,
   "metadata": {
    "collapsed": true
   },
   "outputs": [],
   "source": [
    "# 建立训练集、测试集和校验集\n",
    "# 训练集用来训练神经网络，更改网络的参数；校验集用来判断网络模型是否过拟合：当校验集的损失数值超过训练集的时候，即为过拟合\n",
    "# 测试集用来检验模型的好坏\n",
    "indx = np.random.permutation(range(len(dataset)))\n",
    "dataset = [dataset[i] for i in indx]\n",
    "original_words = [original_words[i] for i in indx]\n",
    "train_size = 500\n",
    "train_data = dataset[train_size:]\n",
    "valid_data = dataset[train_size // 2 : train_size]\n",
    "test_data = dataset[: train_size // 2]\n",
    "test_words = original_words[: train_size // 2]\n"
   ]
  },
  {
   "cell_type": "code",
   "execution_count": 19,
   "metadata": {
    "scrolled": true
   },
   "outputs": [
    {
     "name": "stdout",
     "output_type": "stream",
     "text": [
      "0轮，训练Loss: 8.72, 校验Loss: 8.66\n",
      "1轮，训练Loss: 8.30, 校验Loss: 8.37\n",
      "2轮，训练Loss: 8.04, 校验Loss: 8.19\n",
      "3轮，训练Loss: 7.89, 校验Loss: 8.08\n",
      "4轮，训练Loss: 7.79, 校验Loss: 8.00\n",
      "5轮，训练Loss: 7.71, 校验Loss: 7.94\n",
      "6轮，训练Loss: 7.64, 校验Loss: 7.88\n",
      "7轮，训练Loss: 7.58, 校验Loss: 7.83\n",
      "8轮，训练Loss: 7.53, 校验Loss: 7.79\n",
      "9轮，训练Loss: 7.49, 校验Loss: 7.76\n",
      "10轮，训练Loss: 7.45, 校验Loss: 7.73\n",
      "11轮，训练Loss: 7.42, 校验Loss: 7.70\n",
      "12轮，训练Loss: 7.39, 校验Loss: 7.67\n",
      "13轮，训练Loss: 7.36, 校验Loss: 7.65\n",
      "14轮，训练Loss: 7.33, 校验Loss: 7.63\n",
      "15轮，训练Loss: 7.31, 校验Loss: 7.61\n",
      "16轮，训练Loss: 7.28, 校验Loss: 7.59\n",
      "17轮，训练Loss: 7.26, 校验Loss: 7.58\n",
      "18轮，训练Loss: 7.25, 校验Loss: 7.56\n",
      "19轮，训练Loss: 7.23, 校验Loss: 7.55\n",
      "20轮，训练Loss: 7.21, 校验Loss: 7.54\n",
      "21轮，训练Loss: 7.20, 校验Loss: 7.53\n",
      "22轮，训练Loss: 7.18, 校验Loss: 7.52\n",
      "23轮，训练Loss: 7.17, 校验Loss: 7.51\n",
      "24轮，训练Loss: 7.16, 校验Loss: 7.50\n",
      "25轮，训练Loss: 7.15, 校验Loss: 7.49\n",
      "26轮，训练Loss: 7.14, 校验Loss: 7.49\n",
      "27轮，训练Loss: 7.13, 校验Loss: 7.48\n",
      "28轮，训练Loss: 7.12, 校验Loss: 7.47\n",
      "29轮，训练Loss: 7.11, 校验Loss: 7.47\n",
      "30轮，训练Loss: 7.10, 校验Loss: 7.46\n",
      "31轮，训练Loss: 7.10, 校验Loss: 7.46\n",
      "32轮，训练Loss: 7.09, 校验Loss: 7.45\n",
      "33轮，训练Loss: 7.08, 校验Loss: 7.45\n",
      "34轮，训练Loss: 7.08, 校验Loss: 7.44\n",
      "35轮，训练Loss: 7.07, 校验Loss: 7.44\n",
      "36轮，训练Loss: 7.07, 校验Loss: 7.44\n",
      "37轮，训练Loss: 7.06, 校验Loss: 7.43\n",
      "38轮，训练Loss: 7.06, 校验Loss: 7.43\n",
      "39轮，训练Loss: 7.05, 校验Loss: 7.43\n",
      "40轮，训练Loss: 7.05, 校验Loss: 7.42\n",
      "41轮，训练Loss: 7.04, 校验Loss: 7.42\n",
      "42轮，训练Loss: 7.04, 校验Loss: 7.42\n",
      "43轮，训练Loss: 7.04, 校验Loss: 7.41\n",
      "44轮，训练Loss: 7.03, 校验Loss: 7.41\n",
      "45轮，训练Loss: 7.03, 校验Loss: 7.41\n",
      "46轮，训练Loss: 7.03, 校验Loss: 7.41\n",
      "47轮，训练Loss: 7.02, 校验Loss: 7.41\n",
      "48轮，训练Loss: 7.02, 校验Loss: 7.40\n",
      "49轮，训练Loss: 7.02, 校验Loss: 7.40\n",
      "50轮，训练Loss: 7.02, 校验Loss: 7.40\n",
      "51轮，训练Loss: 7.01, 校验Loss: 7.40\n",
      "52轮，训练Loss: 7.01, 校验Loss: 7.40\n",
      "53轮，训练Loss: 7.01, 校验Loss: 7.40\n",
      "54轮，训练Loss: 7.01, 校验Loss: 7.39\n",
      "55轮，训练Loss: 7.00, 校验Loss: 7.39\n",
      "56轮，训练Loss: 7.00, 校验Loss: 7.39\n",
      "57轮，训练Loss: 7.00, 校验Loss: 7.39\n",
      "58轮，训练Loss: 7.00, 校验Loss: 7.39\n",
      "59轮，训练Loss: 7.00, 校验Loss: 7.39\n",
      "60轮，训练Loss: 7.00, 校验Loss: 7.39\n",
      "61轮，训练Loss: 6.99, 校验Loss: 7.39\n",
      "62轮，训练Loss: 6.99, 校验Loss: 7.38\n",
      "63轮，训练Loss: 6.99, 校验Loss: 7.38\n",
      "64轮，训练Loss: 6.99, 校验Loss: 7.38\n",
      "65轮，训练Loss: 6.99, 校验Loss: 7.38\n",
      "66轮，训练Loss: 6.99, 校验Loss: 7.38\n",
      "67轮，训练Loss: 6.98, 校验Loss: 7.38\n",
      "68轮，训练Loss: 6.98, 校验Loss: 7.38\n",
      "69轮，训练Loss: 6.98, 校验Loss: 7.38\n",
      "70轮，训练Loss: 6.98, 校验Loss: 7.38\n",
      "71轮，训练Loss: 6.98, 校验Loss: 7.38\n",
      "72轮，训练Loss: 6.98, 校验Loss: 7.38\n",
      "73轮，训练Loss: 6.98, 校验Loss: 7.38\n",
      "74轮，训练Loss: 6.98, 校验Loss: 7.38\n",
      "75轮，训练Loss: 6.98, 校验Loss: 7.37\n",
      "76轮，训练Loss: 6.97, 校验Loss: 7.37\n",
      "77轮，训练Loss: 6.97, 校验Loss: 7.37\n",
      "78轮，训练Loss: 6.97, 校验Loss: 7.37\n",
      "79轮，训练Loss: 6.97, 校验Loss: 7.37\n",
      "80轮，训练Loss: 6.97, 校验Loss: 7.37\n",
      "81轮，训练Loss: 6.97, 校验Loss: 7.37\n",
      "82轮，训练Loss: 6.97, 校验Loss: 7.37\n",
      "83轮，训练Loss: 6.97, 校验Loss: 7.37\n",
      "84轮，训练Loss: 6.97, 校验Loss: 7.37\n",
      "85轮，训练Loss: 6.97, 校验Loss: 7.37\n",
      "86轮，训练Loss: 6.97, 校验Loss: 7.37\n",
      "87轮，训练Loss: 6.96, 校验Loss: 7.37\n",
      "88轮，训练Loss: 6.96, 校验Loss: 7.37\n",
      "89轮，训练Loss: 6.96, 校验Loss: 7.37\n",
      "90轮，训练Loss: 6.96, 校验Loss: 7.37\n",
      "91轮，训练Loss: 6.96, 校验Loss: 7.37\n",
      "92轮，训练Loss: 6.96, 校验Loss: 7.37\n",
      "93轮，训练Loss: 6.96, 校验Loss: 7.37\n",
      "94轮，训练Loss: 6.96, 校验Loss: 7.37\n",
      "95轮，训练Loss: 6.96, 校验Loss: 7.37\n",
      "96轮，训练Loss: 6.96, 校验Loss: 7.37\n",
      "97轮，训练Loss: 6.96, 校验Loss: 7.36\n",
      "98轮，训练Loss: 6.96, 校验Loss: 7.36\n",
      "99轮，训练Loss: 6.96, 校验Loss: 7.36\n"
     ]
    }
   ],
   "source": [
    "# 开始训练一个多层神经网络，将一个100维度的英文向量映射为200维度的中文词向量，隐含层节点为30\n",
    "\n",
    "input_size = 100\n",
    "output_size = 200\n",
    "hidden_size = 30\n",
    "\n",
    "# 新建一个神经网络，包含一个隐含层\n",
    "model = nn.Sequential(nn.Linear(input_size, hidden_size),\n",
    "                     nn.Tanh(),\n",
    "                     nn.Linear(hidden_size, output_size)\n",
    "                     )\n",
    "\n",
    "# 构造损失函数\n",
    "criterion = torch.nn.MSELoss()\n",
    "\n",
    "# 构造优化器\n",
    "optimizer = torch.optim.Adam(model.parameters(), lr = 0.0001)\n",
    "\n",
    "# 总的循环周期\n",
    "num_epoch = 100\n",
    "\n",
    "\n",
    "#开始训练500次，每次对所有的数据都做循环\n",
    "results = []\n",
    "for epoch in range(num_epoch):\n",
    "    train_loss = []\n",
    "    for data in train_data:\n",
    "        # 读入数据\n",
    "        x = Variable(torch.FloatTensor(data[0])).unsqueeze(0)\n",
    "        y = Variable(torch.FloatTensor(data[1])).unsqueeze(0)\n",
    "        # 模型预测\n",
    "        output = model(x)\n",
    "        \n",
    "        # 反向传播算法训练\n",
    "        optimizer.zero_grad()\n",
    "        loss = criterion(output, y)\n",
    "        train_loss.append(loss.data.numpy()[0])\n",
    "        loss.backward()\n",
    "        optimizer.step()\n",
    "    # 在校验集上测试一下效果\n",
    "    valid_loss = []\n",
    "    for data in valid_data:\n",
    "        x = Variable(torch.FloatTensor(data[0])).unsqueeze(0)\n",
    "        y = Variable(torch.FloatTensor(data[1])).unsqueeze(0)\n",
    "        output = model(x)\n",
    "        loss = criterion(output, y)\n",
    "        valid_loss.append(loss.data.numpy()[0])\n",
    "    results.append([np.mean(train_loss), np.mean(valid_loss)])\n",
    "    print('{}轮，训练Loss: {:.2f}, 校验Loss: {:.2f}'.format(epoch, np.mean(train_loss), np.mean(valid_loss)))\n"
   ]
  },
  {
   "cell_type": "code",
   "execution_count": 20,
   "metadata": {},
   "outputs": [
    {
     "data": {
      "text/plain": [
       "<matplotlib.legend.Legend at 0x226852790f0>"
      ]
     },
     "execution_count": 20,
     "metadata": {},
     "output_type": "execute_result"
    },
    {
     "data": {
      "image/png": "[encoded data removed]",
      "text/plain": [
       "<matplotlib.figure.Figure at 0x22685298438>"
      ]
     },
     "metadata": {},
     "output_type": "display_data"
    }
   ],
   "source": [
    "# 绘制图形\n",
    "a = [i[0] for i in results]\n",
    "b = [i[1] for i in results]\n",
    "plt.plot(a, 'o', label = 'Training Loss')\n",
    "plt.plot(b, 's', label = 'Validation Loss')\n",
    "plt.xlabel('Epoch')\n",
    "plt.ylabel('Loss Function')\n",
    "plt.legend()"
   ]
  },
  {
   "cell_type": "code",
   "execution_count": 22,
   "metadata": {},
   "outputs": [
    {
     "name": "stdout",
     "output_type": "stream",
     "text": [
      "精确匹配率：0.08\n",
      "一字匹配率：0.18\n",
      "[['雷鬼', '跃动'], ['进化', '探索'], ['理解', '理解'], ['面具', '斗篷'], ['小说', '怪诞'], ['服务', '、'], ['应付', '困难'], ['忙', '拥挤'], ['大象', '蜥蜴'], ['非', '国家'], ['200', '50'], ['热情', '高兴'], ['树', '草'], ['检查', '核对'], ['行动', '行为'], ['特别', '本身'], ['默默', '哭泣'], ['中毒', '下毒'], ['运动', '意识形态'], ['撕', '拉扯'], ['来', '轮到'], ['一些', '这些'], ['账户', '账户'], ['抢购', '手指'], ['黑暗', '白色'], ['她', '她'], ['治疗', '治疗'], ['引起', '导致'], ['病人', '病人'], ['显示', '推测'], ['内布拉斯加州', '巴尔'], ['马', '骑马'], ['收集', '印刷'], ['播音员', '喊'], ['神秘', '消失'], ['好奇', '好奇'], ['尺', '首领'], ['放射性', '腐蚀'], ['山', '山岭'], ['处', '也许'], ['自然', '人类'], ['骑', '晃晃悠悠'], ['解', '方法'], ['选择', '选择'], ['现在', '或者说'], ['脆弱', '使'], ['转换', '款型'], ['辊', '圆盘'], ['假', '伪造'], ['细节', '表述'], ['增益', '增加'], ['表格', '文档'], ['咆哮', '嘶吼'], ['证据', '推测'], ['表', '桌'], ['法老', '法老'], ['包装', '取下'], ['打破', '断掉'], ['提前', '继续前进'], ['整个', '它'], ['取代', '采用'], ['侦探', '警察'], ['参数', '算法'], ['伤心', '难过'], ['主机', '邀请'], ['摩西', '任乃强'], ['而', '他们'], ['笑', '笑'], ['直接', '或者'], ['馅', '牙签'], ['警告', '指责'], ['看到', '看见'], ['安排', '服务'], ['手腕', '后背'], ['任何', '或者'], ['鼻', '部位'], ['战略', '体系'], ['肌肉', '手臂'], ['损坏', '腐蚀'], ['逻辑', '逻辑'], ['墨菲', '他'], ['哇', '我'], ['停止', '停下来'], ['污渍', '锈'], ['支持', '和'], ['得到', '所以'], ['摇', '大叫'], ['新鲜', '肉'], ['用户', '终端设备'], ['语音', '话语'], ['进攻', '位移'], ['电脑', '应用'], ['噪声', '惊恐'], ['女巫', '恶魔'], ['推测', '可能'], ['捻', '小圆'], ['42', '20'], ['盎司', '伊甸园'], ['地垒', '鲍尔'], ['位置', '所在位置'], ['拖', '拖车'], ['回避', '过激'], ['国', '资本主义'], ['雷鸣', '叫喊'], ['路径', '路径'], ['按钮', '故障'], ['羊', '肉'], ['警卫', '警察'], ['极限', '计算'], ['承载', '运送'], ['毫不逊色', '认同'], ['镦', '厌恶'], ['前', '直到'], ['无法', '害怕'], ['单独', '只有'], ['熊', '鳄鱼'], ['曼宁', '拦截'], ['宝座', '公主'], ['装甲', '防爆'], ['网络', '应用'], ['深', '粗大'], ['安慰', '听'], ['自由', '或者'], ['提示', '头'], ['奥尔良', '入夜后'], ['控制', '控制'], ['戳', '打断'], ['选择', '当然'], ['镜头', '逃跑'], ['胸', '密封'], ['率', '下降'], ['中断', '断开'], ['外星人', '猎杀'], ['亲爱的', '我'], ['困', '掩埋'], ['埃及', '纳粹'], ['奶酪', '酸奶'], ['沿', '沿着'], ['提供', '发给'], ['超', '线性'], ['七', '20'], ['方案', '管理'], ['俯瞰', '亭子'], ['失去', '失去'], ['收到', '申请'], ['学习', '研究'], ['同意', '拒绝'], ['污垢', '沙土'], ['财富', '财宝'], ['如果', '如果'], ['密集', '稀疏'], ['计数', '受害者'], ['灾难', '突发事件'], ['笑', '我'], ['连接', '连接'], ['畏缩', '生气'], ['了', '想'], ['大', '有利于'], ['尤金', '罗伯特·'], ['滴', '气泡'], ['挖掘', '矿山'], ['移动', '行进'], ['心', '自己'], ['邮件', '短信'], ['细化', '结构'], ['紧缩', '连锁反应'], ['大叫', '喊'], ['起毛', '手指'], ['电荷', '强制'], ['成瘾者', '患病'], ['生活', '死去'], ['现货', '小洞'], ['消息', '文字'], ['亮', '耀眼'], ['膨胀', '颤动'], ['天堂', '仿佛'], ['范围', '精度'], ['771', '13'], ['谢谢', '充实'], ['帐户', '条目'], ['轻轻', '夹'], ['疑似', '骚扰'], ['质量', '核爆炸'], ['咖啡', '水果'], ['吩咐', '率领'], ['一线', '眼睛'], ['奴隶', '犹太人'], ['停止', '停下来'], ['032', '3'], ['相当', '而且'], ['标题', '灯牌'], ['体', '部位'], ['验证', '理解'], ['星期日', '下午'], ['大脑', '身体'], ['铸', '钉'], ['坚持', '应该'], ['尤物', '火焰'], ['地块', '异教徒'], ['视觉', '感知'], ['等待', '上车'], ['拼盘', '吐司'], ['在', '钻进'], ['足球', '足球'], ['他', '我'], ['查尔顿', '杰克'], ['地图', '视图'], ['事件', '悲剧'], ['开始', '重新启动'], ['蛋白', '性状'], ['星期五', '下午'], ['仆人', '妇女'], ['服饰', '着装'], ['好奇', '好奇'], ['芝士', '奶油'], ['绘制', '拼凑'], ['暗示', '怀疑'], ['雷', '咆哮'], ['法律', '法律'], ['送', '发给'], ['后宫', '长袍'], ['烘烤', '豆子'], ['仍然', '残存'], ['爪', '头'], ['硬', '所以'], ['不服气', '怀疑'], ['萤火虫', '奇异'], ['知道', '想'], ['铺设', '拆掉'], ['正', '理解'], ['波', '翻滚'], ['短缺', '导致'], ['姐姐', '母亲'], ['争论', '认为'], ['有序', '有序'], ['宇宙', '宇宙'], ['霓虹', '蓝色'], ['会', '我'], ['山姆', '彼得'], ['程序', '管理'], ['主要', '地区性'], ['放松', '放松'], ['实例', '术语'], ['获得', '确认'], ['发誓', '我'], ['招', '然后'], ['能', '需要'], ['打趣', '我'], ['皮裤', '布料'], ['风', '水柱']]\n"
     ]
    }
   ],
   "source": [
    "# 在测试集上验证准确度\n",
    "# 检验标准有两个：一个是直接用预测的词和标准答案做全词匹配；另一个是做单字的匹配\n",
    "exact_same = 0  #全词匹配数量\n",
    "one_same = 0 #单字匹配数量\n",
    "results = []\n",
    "for i, data in enumerate(test_data):\n",
    "    x = Variable(torch.FloatTensor(data[0])).unsqueeze(0)\n",
    "    # 给出模型的输出\n",
    "    output = model(x)\n",
    "    output = output.squeeze().data.numpy()\n",
    "    # 从中文词向量中找到与输出向量最相似的向量\n",
    "    most_similar = word_vectors.wv.similar_by_vector(output, 1)\n",
    "    # 将标准答案中的词与最相似的向量所对应的词打印出来\n",
    "    results.append([original_words[i][1], most_similar[0][0]])\n",
    "    \n",
    "    # 全词匹配\n",
    "    if original_words[i][1] == most_similar[0][0]:\n",
    "        exact_same += 1\n",
    "    # 某一个字匹配\n",
    "    if list(set(list(original_words[i][1])) & set(list(most_similar[0][0]))) != []:\n",
    "        one_same += 1\n",
    "    \n",
    "print(\"精确匹配率：{:.2f}\".format(1.0 * exact_same / len(test_data)))\n",
    "print('一字匹配率：{:.2f}'.format(1.0 * one_same / len(test_data)))\n",
    "print(results)"
   ]
  },
  {
   "cell_type": "code",
   "execution_count": null,
   "metadata": {
    "collapsed": true
   },
   "outputs": [],
   "source": []
  }
 ],
 "metadata": {
  "kernelspec": {
   "display_name": "Python 3",
   "language": "python",
   "name": "python3"
  },
  "language_info": {
   "codemirror_mode": {
    "name": "ipython",
    "version": 3
   },
   "file_extension": ".py",
   "mimetype": "text/x-python",
   "name": "python",
   "nbconvert_exporter": "python",
   "pygments_lexer": "ipython3",
   "version": "3.6.2"
  }
 },
 "nbformat": 4,
 "nbformat_minor": 2
}
